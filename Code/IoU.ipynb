{
  "nbformat": 4,
  "nbformat_minor": 0,
  "metadata": {
    "colab": {
      "name": "IoU.ipynb",
      "provenance": []
    },
    "kernelspec": {
      "name": "python3",
      "display_name": "Python 3"
    },
    "language_info": {
      "name": "python"
    }
  },
  "cells": [
    {
      "cell_type": "code",
      "metadata": {
        "colab": {
          "base_uri": "https://localhost:8080/"
        },
        "id": "bCwfrDK-QY_9",
        "outputId": "190c26b4-1c48-4c31-85d8-4e01d2a12242"
      },
      "source": [
        "from google.colab import drive\n",
        "drive.mount('/drive')"
      ],
      "execution_count": null,
      "outputs": [
        {
          "output_type": "stream",
          "name": "stdout",
          "text": [
            "Mounted at /drive\n"
          ]
        }
      ]
    },
    {
      "cell_type": "code",
      "metadata": {
        "id": "P9SH1IqlQ1QJ"
      },
      "source": [
        "import cv2\n",
        "from google.colab.patches import cv2_imshow\n",
        "import numpy as np\n",
        "import matplotlib.pyplot as plt\n",
        "from skimage.filters import threshold_otsu\n",
        "import os"
      ],
      "execution_count": null,
      "outputs": []
    },
    {
      "cell_type": "code",
      "metadata": {
        "id": "Wb5EAfGMI5xO"
      },
      "source": [
        "dir_train = '/drive/MyDrive/CVData/TrainDataCatDog'\n",
        "dir_test = '/drive/MyDrive/CVData/TestDataCatDog'"
      ],
      "execution_count": null,
      "outputs": []
    },
    {
      "cell_type": "code",
      "metadata": {
        "id": "jWg7R6MyRenq"
      },
      "source": [
        "path = os.path.join(dir_train,'cat7.jpg')\n",
        "path3 = os.path.join(dir_train,'cat6.jpg')\n",
        "path4 = os.path.join(dir_train,'dog1.jpg')\n",
        "path6 = os.path.join(dir_train,'cat9.jpg')\n",
        "#img1 = cv2.imread('/drive/MyDrive/CVData/camourflage_00148.png')\n",
        "path1 = os.path.join(dir_test,'cat1.jpg')\n",
        "path2 = os.path.join(dir_test,'cat2.jpg')\n",
        "path5 = os.path.join(dir_test,'dog1.jpg')\n",
        "path7 = os.path.join(dir_test,'cat7.jpg')"
      ],
      "execution_count": null,
      "outputs": []
    },
    {
      "cell_type": "code",
      "metadata": {
        "id": "h9BhZhsw5SBV"
      },
      "source": [
        "def show2image(img_src, img_rst):\n",
        "  plt.figure(figsize=(5, 5))\n",
        "  # show img 1\n",
        "  plt.subplot(1,2,1)  \n",
        "  img_src = cv2.cvtColor(img_src, cv2.COLOR_BGR2RGB)\n",
        "  img_src = plt.imshow(img_src, interpolation='bicubic')\n",
        "\n",
        "  # show img 2\n",
        "  plt.subplot(1,2,2)\n",
        "  img_rst = cv2.cvtColor(img_rst, cv2.COLOR_BGR2RGB)\n",
        "  img_rst = plt.imshow(img_rst, interpolation='bicubic')"
      ],
      "execution_count": null,
      "outputs": []
    },
    {
      "cell_type": "code",
      "metadata": {
        "id": "dYE6-b_CowwK"
      },
      "source": [
        "list_pre_img = []\n",
        "def Thresh_IoU(folder):\n",
        "  for filename in sorted(os.listdir(folder)):\n",
        "    img_path = os.path.join(folder,filename)\n",
        "    img = cv2.imread(img_path)\n",
        "    img_sr = img.copy()\n",
        "    gray = cv2.cvtColor(img_sr,cv2.COLOR_BGR2GRAY)\n",
        "    thresh = cv2.adaptiveThreshold(gray, 255, cv2.ADAPTIVE_THRESH_MEAN_C, cv2.THRESH_BINARY_INV, 51,5)\n",
        "    list_pre_img.append(thresh)\n",
        "    #show2image(img,thresh)"
      ],
      "execution_count": null,
      "outputs": []
    },
    {
      "cell_type": "code",
      "metadata": {
        "id": "uwab11hJppXt"
      },
      "source": [
        "Thresh_IoU(dir_train)"
      ],
      "execution_count": null,
      "outputs": []
    },
    {
      "cell_type": "code",
      "metadata": {
        "id": "KtTkXGCryhrq"
      },
      "source": [
        "list_gt_img = []\n",
        "def GT_img(folder):\n",
        "  for filename in  os.listdir(folder):\n",
        "    img_path = os.path.join(folder,filename)\n",
        "    img_gt = cv2.imread(img_path)\n",
        "    gray = cv2.cvtColor(img_gt ,cv2.COLOR_BGR2GRAY)\n",
        "    list_gt_img.append(gray)"
      ],
      "execution_count": null,
      "outputs": []
    },
    {
      "cell_type": "code",
      "metadata": {
        "id": "e5a4T7SXykwK"
      },
      "source": [
        "GT_img(dir_test)"
      ],
      "execution_count": null,
      "outputs": []
    },
    {
      "cell_type": "code",
      "metadata": {
        "id": "HRmb-eOEKlMM"
      },
      "source": [
        "def Cal_IoUimg(img_src,img_gt):\n",
        "  TP = 0\n",
        "  FP = 0\n",
        "  FN = 0\n",
        "  for x in range(img_gt.shape[0]): # duyệt theo chiều rộng ảnh\n",
        "    for y in range(img_gt.shape[1]): # duyệt theo chiều cao ảnh\n",
        "      if ((img_gt[x][y] == 255) and (img_src[x][y] == 255)):\n",
        "        TP += 1\n",
        "      elif ((img_gt[x][y] == 0)  and (img_src[x][y] == 255)):\n",
        "        FP += 1\n",
        "      elif ((img_gt[x][y] == 255)  and (img_src[x][y] == 0)):\n",
        "        FN += 1\n",
        "       \n",
        "  IoU = TP  / (TP   + FP + FN)\n",
        "  return IoU\n"
      ],
      "execution_count": null,
      "outputs": []
    },
    {
      "cell_type": "code",
      "metadata": {
        "id": "TukuS_pGy8L5"
      },
      "source": [
        "list_iou = []\n",
        "def Cal_IoU(list_pre,list_gt):\n",
        "  for i in range(len(list_pre)):\n",
        "    iou = Cal_IoUimg(list_pre[i],list_gt[i])\n",
        "    list_iou.append(iou)\n"
      ],
      "execution_count": null,
      "outputs": []
    },
    {
      "cell_type": "code",
      "metadata": {
        "id": "nskagdJAsjGc"
      },
      "source": [
        "Cal_IoU(list_pre_img,list_gt_img)"
      ],
      "execution_count": null,
      "outputs": []
    },
    {
      "cell_type": "code",
      "metadata": {
        "colab": {
          "base_uri": "https://localhost:8080/"
        },
        "id": "mkwiWFJrqqpP",
        "outputId": "092ca168-7e6e-41c1-f16d-1df6d4156a5c"
      },
      "source": [
        "list_iou"
      ],
      "execution_count": null,
      "outputs": [
        {
          "output_type": "execute_result",
          "data": {
            "text/plain": [
              "[0.7525341262332748,\n",
              " 0.40962156232860614,\n",
              " 0.5476954246159041,\n",
              " 0.6496137915593866,\n",
              " 0.29460031307518963,\n",
              " 0.33601460718515597,\n",
              " 0.21392986898601785,\n",
              " 0.6766624131575216,\n",
              " 0.5824243167054786,\n",
              " 0.7825853058715032]"
            ]
          },
          "metadata": {},
          "execution_count": 13
        }
      ]
    },
    {
      "cell_type": "code",
      "metadata": {
        "colab": {
          "base_uri": "https://localhost:8080/"
        },
        "id": "I21AeX8ust5_",
        "outputId": "d9b18d7e-4288-4814-a1e7-69536daddf51"
      },
      "source": [
        "import statistics \n",
        "x = statistics.mean(list_iou)\n",
        "x"
      ],
      "execution_count": null,
      "outputs": [
        {
          "output_type": "execute_result",
          "data": {
            "text/plain": [
              "0.5245681729718038"
            ]
          },
          "metadata": {},
          "execution_count": 14
        }
      ]
    }
  ]
}